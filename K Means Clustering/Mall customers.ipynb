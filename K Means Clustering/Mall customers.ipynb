{
 "cells": [
  {
   "cell_type": "code",
   "execution_count": 2,
   "id": "8de7b433",
   "metadata": {},
   "outputs": [],
   "source": [
    "import pandas as pd\n",
    "import numpy as np\n",
    "import matplotlib.pyplot as plt\n",
    "%matplotlib inline\n",
    "import seaborn as sns"
   ]
  },
  {
   "cell_type": "code",
   "execution_count": 4,
   "id": "2c1506e5",
   "metadata": {},
   "outputs": [],
   "source": [
    "data = pd.read_csv(\"data.csv\")"
   ]
  },
  {
   "cell_type": "code",
   "execution_count": 5,
   "id": "7228af86",
   "metadata": {},
   "outputs": [
    {
     "data": {
      "text/html": [
       "<div>\n",
       "<style scoped>\n",
       "    .dataframe tbody tr th:only-of-type {\n",
       "        vertical-align: middle;\n",
       "    }\n",
       "\n",
       "    .dataframe tbody tr th {\n",
       "        vertical-align: top;\n",
       "    }\n",
       "\n",
       "    .dataframe thead th {\n",
       "        text-align: right;\n",
       "    }\n",
       "</style>\n",
       "<table border=\"1\" class=\"dataframe\">\n",
       "  <thead>\n",
       "    <tr style=\"text-align: right;\">\n",
       "      <th></th>\n",
       "      <th>CustomerID</th>\n",
       "      <th>Genre</th>\n",
       "      <th>Age</th>\n",
       "      <th>Annual Income (k$)</th>\n",
       "      <th>Spending Score (1-100)</th>\n",
       "    </tr>\n",
       "  </thead>\n",
       "  <tbody>\n",
       "    <tr>\n",
       "      <th>0</th>\n",
       "      <td>1</td>\n",
       "      <td>Male</td>\n",
       "      <td>19</td>\n",
       "      <td>15</td>\n",
       "      <td>39</td>\n",
       "    </tr>\n",
       "    <tr>\n",
       "      <th>1</th>\n",
       "      <td>2</td>\n",
       "      <td>Male</td>\n",
       "      <td>21</td>\n",
       "      <td>15</td>\n",
       "      <td>81</td>\n",
       "    </tr>\n",
       "    <tr>\n",
       "      <th>2</th>\n",
       "      <td>3</td>\n",
       "      <td>Female</td>\n",
       "      <td>20</td>\n",
       "      <td>16</td>\n",
       "      <td>6</td>\n",
       "    </tr>\n",
       "    <tr>\n",
       "      <th>3</th>\n",
       "      <td>4</td>\n",
       "      <td>Female</td>\n",
       "      <td>23</td>\n",
       "      <td>16</td>\n",
       "      <td>77</td>\n",
       "    </tr>\n",
       "    <tr>\n",
       "      <th>4</th>\n",
       "      <td>5</td>\n",
       "      <td>Female</td>\n",
       "      <td>31</td>\n",
       "      <td>17</td>\n",
       "      <td>40</td>\n",
       "    </tr>\n",
       "  </tbody>\n",
       "</table>\n",
       "</div>"
      ],
      "text/plain": [
       "   CustomerID   Genre  Age  Annual Income (k$)  Spending Score (1-100)\n",
       "0           1    Male   19                  15                      39\n",
       "1           2    Male   21                  15                      81\n",
       "2           3  Female   20                  16                       6\n",
       "3           4  Female   23                  16                      77\n",
       "4           5  Female   31                  17                      40"
      ]
     },
     "execution_count": 5,
     "metadata": {},
     "output_type": "execute_result"
    }
   ],
   "source": [
    "data.head()"
   ]
  },
  {
   "cell_type": "code",
   "execution_count": 7,
   "id": "cb4a2556",
   "metadata": {},
   "outputs": [
    {
     "name": "stdout",
     "output_type": "stream",
     "text": [
      "<class 'pandas.core.frame.DataFrame'>\n",
      "RangeIndex: 200 entries, 0 to 199\n",
      "Data columns (total 5 columns):\n",
      " #   Column                  Non-Null Count  Dtype \n",
      "---  ------                  --------------  ----- \n",
      " 0   CustomerID              200 non-null    int64 \n",
      " 1   Genre                   200 non-null    object\n",
      " 2   Age                     200 non-null    int64 \n",
      " 3   Annual Income (k$)      200 non-null    int64 \n",
      " 4   Spending Score (1-100)  200 non-null    int64 \n",
      "dtypes: int64(4), object(1)\n",
      "memory usage: 7.9+ KB\n"
     ]
    }
   ],
   "source": [
    "data.info()"
   ]
  },
  {
   "cell_type": "code",
   "execution_count": 8,
   "id": "c59ecbf2",
   "metadata": {},
   "outputs": [
    {
     "data": {
      "text/plain": [
       "(200, 5)"
      ]
     },
     "execution_count": 8,
     "metadata": {},
     "output_type": "execute_result"
    }
   ],
   "source": [
    "data.shape"
   ]
  },
  {
   "cell_type": "markdown",
   "id": "1b553ed0",
   "metadata": {},
   "source": [
    "As you can see, there are 5 columns in the dataset. For the sake of simplicity, in this example, I am using the columns \"Spending Score (1-100)\" and \"Annual Income (k$)\"\n",
    "\n",
    "The scatter plot of the 2 columns is shwon in the next cell."
   ]
  },
  {
   "cell_type": "code",
   "execution_count": 9,
   "id": "48ab5a9f",
   "metadata": {},
   "outputs": [
    {
     "data": {
      "text/plain": [
       "<matplotlib.collections.PathCollection at 0x256c8f0d460>"
      ]
     },
     "execution_count": 9,
     "metadata": {},
     "output_type": "execute_result"
    },
    {
     "data": {
      "image/png": "[encoded data removed]",
      "text/plain": [
       "<Figure size 432x288 with 1 Axes>"
      ]
     },
     "metadata": {
      "needs_background": "light"
     },
     "output_type": "display_data"
    }
   ],
   "source": [
    "plt.scatter(data[\"Spending Score (1-100)\"],data[\"Annual Income (k$)\"])"
   ]
  },
  {
   "cell_type": "markdown",
   "id": "5fff7d46",
   "metadata": {},
   "source": [
    "As we can see, five different clusters are seen in the image. so, I am picking 5 as the number of clusters."
   ]
  },
  {
   "cell_type": "code",
   "execution_count": 10,
   "id": "5ae7badd",
   "metadata": {},
   "outputs": [],
   "source": [
    "from sklearn.cluster import KMeans"
   ]
  },
  {
   "cell_type": "code",
   "execution_count": 11,
   "id": "207ffea3",
   "metadata": {},
   "outputs": [],
   "source": [
    "km = KMeans(n_clusters=5)\n",
    "y_pred = km.fit_predict(data[[\"Spending Score (1-100)\",\"Annual Income (k$)\"]])"
   ]
  },
  {
   "cell_type": "markdown",
   "id": "9a8c1c52",
   "metadata": {},
   "source": [
    "Now, I am creating a new column \"cluster\" and copy the predictions to the new column"
   ]
  },
  {
   "cell_type": "code",
   "execution_count": 12,
   "id": "d30de634",
   "metadata": {},
   "outputs": [
    {
     "data": {
      "text/html": [
       "<div>\n",
       "<style scoped>\n",
       "    .dataframe tbody tr th:only-of-type {\n",
       "        vertical-align: middle;\n",
       "    }\n",
       "\n",
       "    .dataframe tbody tr th {\n",
       "        vertical-align: top;\n",
       "    }\n",
       "\n",
       "    .dataframe thead th {\n",
       "        text-align: right;\n",
       "    }\n",
       "</style>\n",
       "<table border=\"1\" class=\"dataframe\">\n",
       "  <thead>\n",
       "    <tr style=\"text-align: right;\">\n",
       "      <th></th>\n",
       "      <th>CustomerID</th>\n",
       "      <th>Genre</th>\n",
       "      <th>Age</th>\n",
       "      <th>Annual Income (k$)</th>\n",
       "      <th>Spending Score (1-100)</th>\n",
       "      <th>Cluster</th>\n",
       "    </tr>\n",
       "  </thead>\n",
       "  <tbody>\n",
       "    <tr>\n",
       "      <th>0</th>\n",
       "      <td>1</td>\n",
       "      <td>Male</td>\n",
       "      <td>19</td>\n",
       "      <td>15</td>\n",
       "      <td>39</td>\n",
       "      <td>3</td>\n",
       "    </tr>\n",
       "    <tr>\n",
       "      <th>1</th>\n",
       "      <td>2</td>\n",
       "      <td>Male</td>\n",
       "      <td>21</td>\n",
       "      <td>15</td>\n",
       "      <td>81</td>\n",
       "      <td>0</td>\n",
       "    </tr>\n",
       "    <tr>\n",
       "      <th>2</th>\n",
       "      <td>3</td>\n",
       "      <td>Female</td>\n",
       "      <td>20</td>\n",
       "      <td>16</td>\n",
       "      <td>6</td>\n",
       "      <td>3</td>\n",
       "    </tr>\n",
       "    <tr>\n",
       "      <th>3</th>\n",
       "      <td>4</td>\n",
       "      <td>Female</td>\n",
       "      <td>23</td>\n",
       "      <td>16</td>\n",
       "      <td>77</td>\n",
       "      <td>0</td>\n",
       "    </tr>\n",
       "    <tr>\n",
       "      <th>4</th>\n",
       "      <td>5</td>\n",
       "      <td>Female</td>\n",
       "      <td>31</td>\n",
       "      <td>17</td>\n",
       "      <td>40</td>\n",
       "      <td>3</td>\n",
       "    </tr>\n",
       "  </tbody>\n",
       "</table>\n",
       "</div>"
      ],
      "text/plain": [
       "   CustomerID   Genre  Age  Annual Income (k$)  Spending Score (1-100)  \\\n",
       "0           1    Male   19                  15                      39   \n",
       "1           2    Male   21                  15                      81   \n",
       "2           3  Female   20                  16                       6   \n",
       "3           4  Female   23                  16                      77   \n",
       "4           5  Female   31                  17                      40   \n",
       "\n",
       "   Cluster  \n",
       "0        3  \n",
       "1        0  \n",
       "2        3  \n",
       "3        0  \n",
       "4        3  "
      ]
     },
     "execution_count": 12,
     "metadata": {},
     "output_type": "execute_result"
    }
   ],
   "source": [
    "data[\"Cluster\"] = y_pred\n",
    "data.head()"
   ]
  },
  {
   "cell_type": "markdown",
   "id": "31f00edf",
   "metadata": {},
   "source": [
    "now, we need to separate the 5 clusters into different dataframes. then plot the clusters in different colors"
   ]
  },
  {
   "cell_type": "code",
   "execution_count": 13,
   "id": "c85738b9",
   "metadata": {},
   "outputs": [],
   "source": [
    "df1 = data[data.Cluster == 0]\n",
    "df2 = data[data.Cluster == 1]\n",
    "df3 = data[data.Cluster == 2]\n",
    "df4 = data[data.Cluster == 3]\n",
    "df5 = data[data.Cluster == 4]"
   ]
  },
  {
   "cell_type": "code",
   "execution_count": 15,
   "id": "212a302e",
   "metadata": {},
   "outputs": [
    {
     "data": {
      "text/plain": [
       "Text(0.5, 0, 'Spending Score (1-100)')"
      ]
     },
     "execution_count": 15,
     "metadata": {},
     "output_type": "execute_result"
    },
    {
     "data": {
      "image/png": "[encoded data removed]",
      "text/plain": [
       "<Figure size 432x288 with 1 Axes>"
      ]
     },
     "metadata": {
      "needs_background": "light"
     },
     "output_type": "display_data"
    }
   ],
   "source": [
    "plt.scatter(df1[\"Spending Score (1-100)\"], df1[\"Annual Income (k$)\"], color = \"green\")\n",
    "plt.scatter(df2[\"Spending Score (1-100)\"],df2[\"Annual Income (k$)\"],color='blue')\n",
    "plt.scatter(df3[\"Spending Score (1-100)\"],df3[\"Annual Income (k$)\"],color='red')\n",
    "plt.scatter(df4[\"Spending Score (1-100)\"],df4[\"Annual Income (k$)\"],color='yellow')\n",
    "plt.scatter(df5[\"Spending Score (1-100)\"],df5[\"Annual Income (k$)\"],color='black')\n",
    "\n",
    "plt.ylabel(\"Annual Income (k$)\")\n",
    "plt.xlabel(\"Spending Score (1-100)\")"
   ]
  },
  {
   "cell_type": "markdown",
   "id": "5b9606d5",
   "metadata": {},
   "source": [
    "In some cases the data is not clustered optimally. This is due to the fact that our scaling is not right and there is a big gap between the values in the y-axis and the x-axis. So, we need to scale the data prior to the clustreing. let's do the scaling with the MinMaxSclaer"
   ]
  },
  {
   "cell_type": "code",
   "execution_count": 16,
   "id": "76f63c36",
   "metadata": {},
   "outputs": [],
   "source": [
    "from sklearn.preprocessing import MinMaxScaler"
   ]
  },
  {
   "cell_type": "code",
   "execution_count": 17,
   "id": "5018dda9",
   "metadata": {},
   "outputs": [],
   "source": [
    "scaler = MinMaxScaler()"
   ]
  },
  {
   "cell_type": "code",
   "execution_count": 19,
   "id": "82fc93da",
   "metadata": {},
   "outputs": [],
   "source": [
    "data[\"Spending Score (1-100)\"] = scaler.fit_transform(data[[\"Spending Score (1-100)\"]])\n",
    "data[\"Annual Income (k$)\"] = scaler.fit_transform(data[[\"Annual Income (k$)\"]])"
   ]
  },
  {
   "cell_type": "code",
   "execution_count": 20,
   "id": "99941d8f",
   "metadata": {},
   "outputs": [
    {
     "data": {
      "text/html": [
       "<div>\n",
       "<style scoped>\n",
       "    .dataframe tbody tr th:only-of-type {\n",
       "        vertical-align: middle;\n",
       "    }\n",
       "\n",
       "    .dataframe tbody tr th {\n",
       "        vertical-align: top;\n",
       "    }\n",
       "\n",
       "    .dataframe thead th {\n",
       "        text-align: right;\n",
       "    }\n",
       "</style>\n",
       "<table border=\"1\" class=\"dataframe\">\n",
       "  <thead>\n",
       "    <tr style=\"text-align: right;\">\n",
       "      <th></th>\n",
       "      <th>CustomerID</th>\n",
       "      <th>Genre</th>\n",
       "      <th>Age</th>\n",
       "      <th>Annual Income (k$)</th>\n",
       "      <th>Spending Score (1-100)</th>\n",
       "      <th>Cluster</th>\n",
       "    </tr>\n",
       "  </thead>\n",
       "  <tbody>\n",
       "    <tr>\n",
       "      <th>0</th>\n",
       "      <td>1</td>\n",
       "      <td>Male</td>\n",
       "      <td>19</td>\n",
       "      <td>0.000000</td>\n",
       "      <td>0.387755</td>\n",
       "      <td>3</td>\n",
       "    </tr>\n",
       "    <tr>\n",
       "      <th>1</th>\n",
       "      <td>2</td>\n",
       "      <td>Male</td>\n",
       "      <td>21</td>\n",
       "      <td>0.000000</td>\n",
       "      <td>0.816327</td>\n",
       "      <td>0</td>\n",
       "    </tr>\n",
       "    <tr>\n",
       "      <th>2</th>\n",
       "      <td>3</td>\n",
       "      <td>Female</td>\n",
       "      <td>20</td>\n",
       "      <td>0.008197</td>\n",
       "      <td>0.051020</td>\n",
       "      <td>3</td>\n",
       "    </tr>\n",
       "    <tr>\n",
       "      <th>3</th>\n",
       "      <td>4</td>\n",
       "      <td>Female</td>\n",
       "      <td>23</td>\n",
       "      <td>0.008197</td>\n",
       "      <td>0.775510</td>\n",
       "      <td>0</td>\n",
       "    </tr>\n",
       "    <tr>\n",
       "      <th>4</th>\n",
       "      <td>5</td>\n",
       "      <td>Female</td>\n",
       "      <td>31</td>\n",
       "      <td>0.016393</td>\n",
       "      <td>0.397959</td>\n",
       "      <td>3</td>\n",
       "    </tr>\n",
       "  </tbody>\n",
       "</table>\n",
       "</div>"
      ],
      "text/plain": [
       "   CustomerID   Genre  Age  Annual Income (k$)  Spending Score (1-100)  \\\n",
       "0           1    Male   19            0.000000                0.387755   \n",
       "1           2    Male   21            0.000000                0.816327   \n",
       "2           3  Female   20            0.008197                0.051020   \n",
       "3           4  Female   23            0.008197                0.775510   \n",
       "4           5  Female   31            0.016393                0.397959   \n",
       "\n",
       "   Cluster  \n",
       "0        3  \n",
       "1        0  \n",
       "2        3  \n",
       "3        0  \n",
       "4        3  "
      ]
     },
     "execution_count": 20,
     "metadata": {},
     "output_type": "execute_result"
    }
   ],
   "source": [
    "data.head()"
   ]
  },
  {
   "cell_type": "code",
   "execution_count": 21,
   "id": "055f476c",
   "metadata": {},
   "outputs": [
    {
     "data": {
      "text/plain": [
       "<matplotlib.collections.PathCollection at 0x256cbebb160>"
      ]
     },
     "execution_count": 21,
     "metadata": {},
     "output_type": "execute_result"
    },
    {
     "data": {
      "image/png": "[encoded data removed]",
      "text/plain": [
       "<Figure size 432x288 with 1 Axes>"
      ]
     },
     "metadata": {
      "needs_background": "light"
     },
     "output_type": "display_data"
    }
   ],
   "source": [
    "plt.scatter(data[\"Spending Score (1-100)\"], data[\"Annual Income (k$)\"])"
   ]
  },
  {
   "cell_type": "markdown",
   "id": "c337d63a",
   "metadata": {},
   "source": [
    "Again, the same process with the scaled data"
   ]
  },
  {
   "cell_type": "code",
   "execution_count": 22,
   "id": "f0f0d13b",
   "metadata": {},
   "outputs": [
    {
     "data": {
      "text/html": [
       "<div>\n",
       "<style scoped>\n",
       "    .dataframe tbody tr th:only-of-type {\n",
       "        vertical-align: middle;\n",
       "    }\n",
       "\n",
       "    .dataframe tbody tr th {\n",
       "        vertical-align: top;\n",
       "    }\n",
       "\n",
       "    .dataframe thead th {\n",
       "        text-align: right;\n",
       "    }\n",
       "</style>\n",
       "<table border=\"1\" class=\"dataframe\">\n",
       "  <thead>\n",
       "    <tr style=\"text-align: right;\">\n",
       "      <th></th>\n",
       "      <th>CustomerID</th>\n",
       "      <th>Genre</th>\n",
       "      <th>Age</th>\n",
       "      <th>Annual Income (k$)</th>\n",
       "      <th>Spending Score (1-100)</th>\n",
       "      <th>Cluster</th>\n",
       "    </tr>\n",
       "  </thead>\n",
       "  <tbody>\n",
       "    <tr>\n",
       "      <th>0</th>\n",
       "      <td>1</td>\n",
       "      <td>Male</td>\n",
       "      <td>19</td>\n",
       "      <td>0.000000</td>\n",
       "      <td>0.387755</td>\n",
       "      <td>4</td>\n",
       "    </tr>\n",
       "    <tr>\n",
       "      <th>1</th>\n",
       "      <td>2</td>\n",
       "      <td>Male</td>\n",
       "      <td>21</td>\n",
       "      <td>0.000000</td>\n",
       "      <td>0.816327</td>\n",
       "      <td>2</td>\n",
       "    </tr>\n",
       "    <tr>\n",
       "      <th>2</th>\n",
       "      <td>3</td>\n",
       "      <td>Female</td>\n",
       "      <td>20</td>\n",
       "      <td>0.008197</td>\n",
       "      <td>0.051020</td>\n",
       "      <td>4</td>\n",
       "    </tr>\n",
       "    <tr>\n",
       "      <th>3</th>\n",
       "      <td>4</td>\n",
       "      <td>Female</td>\n",
       "      <td>23</td>\n",
       "      <td>0.008197</td>\n",
       "      <td>0.775510</td>\n",
       "      <td>2</td>\n",
       "    </tr>\n",
       "    <tr>\n",
       "      <th>4</th>\n",
       "      <td>5</td>\n",
       "      <td>Female</td>\n",
       "      <td>31</td>\n",
       "      <td>0.016393</td>\n",
       "      <td>0.397959</td>\n",
       "      <td>4</td>\n",
       "    </tr>\n",
       "  </tbody>\n",
       "</table>\n",
       "</div>"
      ],
      "text/plain": [
       "   CustomerID   Genre  Age  Annual Income (k$)  Spending Score (1-100)  \\\n",
       "0           1    Male   19            0.000000                0.387755   \n",
       "1           2    Male   21            0.000000                0.816327   \n",
       "2           3  Female   20            0.008197                0.051020   \n",
       "3           4  Female   23            0.008197                0.775510   \n",
       "4           5  Female   31            0.016393                0.397959   \n",
       "\n",
       "   Cluster  \n",
       "0        4  \n",
       "1        2  \n",
       "2        4  \n",
       "3        2  \n",
       "4        4  "
      ]
     },
     "execution_count": 22,
     "metadata": {},
     "output_type": "execute_result"
    }
   ],
   "source": [
    "km = KMeans(n_clusters= 5)\n",
    "y_pred = km.fit_predict(data[[\"Spending Score (1-100)\", \"Annual Income (k$)\"]])\n",
    "data[\"Cluster\"] = y_pred\n",
    "data.head()"
   ]
  },
  {
   "cell_type": "markdown",
   "id": "b66d07f8",
   "metadata": {},
   "source": [
    "we can obtain the value of the cenroids by the \"clustercenters\""
   ]
  },
  {
   "cell_type": "code",
   "execution_count": 23,
   "id": "dc759844",
   "metadata": {},
   "outputs": [
    {
     "data": {
      "text/plain": [
       "array([[0.82783883, 0.58638083],\n",
       "       [0.16443149, 0.6       ],\n",
       "       [0.79962894, 0.08792846],\n",
       "       [0.49508692, 0.33029751],\n",
       "       [0.20319432, 0.09265859]])"
      ]
     },
     "execution_count": 23,
     "metadata": {},
     "output_type": "execute_result"
    }
   ],
   "source": [
    "km.cluster_centers_"
   ]
  },
  {
   "cell_type": "markdown",
   "id": "55698640",
   "metadata": {},
   "source": [
    "in the next plot, I am showing the cenroids by purple color and the * marker"
   ]
  },
  {
   "cell_type": "code",
   "execution_count": 27,
   "id": "d111744a",
   "metadata": {},
   "outputs": [
    {
     "data": {
      "text/plain": [
       "Text(0, 0.5, 'Annual Income')"
      ]
     },
     "execution_count": 27,
     "metadata": {},
     "output_type": "execute_result"
    },
    {
     "data": {
      "image/png": "[encoded data removed]",
      "text/plain": [
       "<Figure size 432x288 with 1 Axes>"
      ]
     },
     "metadata": {
      "needs_background": "light"
     },
     "output_type": "display_data"
    }
   ],
   "source": [
    "df1=data[data.Cluster==0]\n",
    "df2=data[data.Cluster==1]\n",
    "df3=data[data.Cluster==2]\n",
    "df4=data[data.Cluster==3]\n",
    "df5=data[data.Cluster==4]\n",
    "\n",
    "plt.scatter(df1[\"Spending Score (1-100)\"],df1[\"Annual Income (k$)\"],color='green')\n",
    "plt.scatter(df2[\"Spending Score (1-100)\"],df2[\"Annual Income (k$)\"],color='blue')\n",
    "plt.scatter(df3[\"Spending Score (1-100)\"],df3[\"Annual Income (k$)\"],color='red')\n",
    "plt.scatter(df4[\"Spending Score (1-100)\"],df4[\"Annual Income (k$)\"],color='yellow')\n",
    "plt.scatter(df5[\"Spending Score (1-100)\"],df5[\"Annual Income (k$)\"],color='black')\n",
    "plt.scatter(km.cluster_centers_[:,0],km.cluster_centers_[:,1],color='purple',marker='*')\n",
    "\n",
    "plt.xlabel('Spending Score')\n",
    "plt.ylabel('Annual Income')"
   ]
  },
  {
   "cell_type": "markdown",
   "id": "9b07803f",
   "metadata": {},
   "source": [
    "Now, let's find the optimal value of K by using the elbow method.\n",
    "\n",
    "we will try the K values from 1 to 10 and we will copy the SSE values to the sse"
   ]
  },
  {
   "cell_type": "code",
   "execution_count": 28,
   "id": "5c2f7316",
   "metadata": {},
   "outputs": [
    {
     "name": "stderr",
     "output_type": "stream",
     "text": [
      "C:\\Users\\LENOVO\\Anaconda3\\lib\\site-packages\\sklearn\\cluster\\_kmeans.py:881: UserWarning: KMeans is known to have a memory leak on Windows with MKL, when there are less chunks than available threads. You can avoid it by setting the environment variable OMP_NUM_THREADS=1.\n",
      "  warnings.warn(\n"
     ]
    }
   ],
   "source": [
    "k_rng = range(1,11)\n",
    "sse = []\n",
    "for k in k_rng:\n",
    "    km = KMeans(n_clusters=k)\n",
    "    km.fit(data[[\"Spending Score (1-100)\", \"Annual Income (k$)\"]])\n",
    "    sse.append(km.inertia_)"
   ]
  },
  {
   "cell_type": "markdown",
   "id": "e812592b",
   "metadata": {},
   "source": [
    "Now, let's plot the sse plot. As we can see, the K=5 is the optimal value"
   ]
  },
  {
   "cell_type": "code",
   "execution_count": 29,
   "id": "e75422ea",
   "metadata": {},
   "outputs": [
    {
     "data": {
      "text/plain": [
       "<matplotlib.collections.PathCollection at 0x256cdb8c910>"
      ]
     },
     "execution_count": 29,
     "metadata": {},
     "output_type": "execute_result"
    },
    {
     "data": {
      "image/png": "[encoded data removed]",
      "text/plain": [
       "<Figure size 432x288 with 1 Axes>"
      ]
     },
     "metadata": {
      "needs_background": "light"
     },
     "output_type": "display_data"
    }
   ],
   "source": [
    "plt.xlabel(\"K\")\n",
    "plt.ylabel(\"SSE\")\n",
    "\n",
    "plt.plot(k_rng, sse)\n",
    "plt.scatter(k_rng, sse)"
   ]
  },
  {
   "cell_type": "code",
   "execution_count": null,
   "id": "3d7ae50b",
   "metadata": {},
   "outputs": [],
   "source": []
  }
 ],
 "metadata": {
  "kernelspec": {
   "display_name": "Python 3 (ipykernel)",
   "language": "python",
   "name": "python3"
  },
  "language_info": {
   "codemirror_mode": {
    "name": "ipython",
    "version": 3
   },
   "file_extension": ".py",
   "mimetype": "text/x-python",
   "name": "python",
   "nbconvert_exporter": "python",
   "pygments_lexer": "ipython3",
   "version": "3.9.7"
  }
 },
 "nbformat": 4,
 "nbformat_minor": 5
}
